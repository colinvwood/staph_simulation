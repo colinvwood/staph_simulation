{
 "cells": [
  {
   "cell_type": "code",
   "execution_count": 26,
   "id": "6ca7a198",
   "metadata": {},
   "outputs": [],
   "source": [
    "import json\n",
    "import random\n",
    "\n",
    "import altair as alt\n",
    "import pandas as pd"
   ]
  },
  {
   "cell_type": "code",
   "execution_count": 27,
   "id": "bff32f91",
   "metadata": {},
   "outputs": [],
   "source": [
    "bot1_cmb1_path = '/Users/cwood/Desktop/staph_simulation/src100000-rec10000-bot1-cmb1.json'\n",
    "bot1_cmb5_path = '/Users/cwood/Desktop/staph_simulation/src100000-rec10000-bot1-cmb5.json'\n",
    "bot5_cmb1_path = '/Users/cwood/Desktop/staph_simulation/src100000-rec10000-bot5-cmb1.json'\n",
    "bot5_cmb5_path = '/Users/cwood/Desktop/staph_simulation/src100000-rec10000-bot5-cmb5.json'"
   ]
  },
  {
   "cell_type": "code",
   "execution_count": 28,
   "id": "be877aa8",
   "metadata": {},
   "outputs": [
    {
     "name": "stdout",
     "output_type": "stream",
     "text": [
      "dict_keys(['correct detection proportion', 'reverse detection proportion', 'ambiguous detection proportion'])\n"
     ]
    }
   ],
   "source": [
    "with open(bot1_cmb1_path, 'r') as fh:\n",
    "    bot1_cmb1_data = json.load(fh)\n",
    "# with open(bot1_cmb5_path, 'r') as fh:\n",
    "#     bot1_cmb5_data = json.load(fh)\n",
    "# with open(bot5_cmb1_path, 'r') as fh:\n",
    "#     bot5_cmb1_data = json.load(fh)\n",
    "# with open(bot5_cmb5_path, 'r') as fh:\n",
    "#     bot5_cmb5_data = json.load(fh)\n",
    "\n",
    "print(bot1_cmb1_data[0]['clumpiness tally'].keys())"
   ]
  },
  {
   "cell_type": "code",
   "execution_count": 32,
   "id": "e0b6c9d3",
   "metadata": {},
   "outputs": [
    {
     "name": "stdout",
     "output_type": "stream",
     "text": [
      "0     1.0\n",
      "1     1.0\n",
      "2     1.0\n",
      "3     1.0\n",
      "4     1.0\n",
      "5     1.0\n",
      "6     1.0\n",
      "7     1.0\n",
      "8     1.0\n",
      "9     1.0\n",
      "10    1.0\n",
      "11    1.0\n",
      "12    1.0\n",
      "13    1.0\n",
      "14    1.0\n",
      "15    1.0\n",
      "16    1.0\n",
      "17    1.0\n",
      "18    1.0\n",
      "19    1.0\n",
      "Name: clumpiness tally ambiguous, dtype: float64\n"
     ]
    }
   ],
   "source": [
    "bot1_cmb1 = {}\n",
    "for stat in 'clumpiness tally', 'clumpiness magnitude':\n",
    "    for detection in 'correct', 'reverse', 'ambiguous':\n",
    "        bot1_cmb1[f'{stat} {detection}'] = []\n",
    "        for sim in bot1_cmb1_data:\n",
    "            bot1_cmb1[f'{stat} {detection}'].append(\n",
    "                sim[stat][f'{detection} detection proportion']\n",
    "            )\n",
    "bot1_cmb1_df = pd.DataFrame(bot1_cmb1)\n",
    "\n",
    "print(bot1_cmb1_df['clumpiness tally ambiguous'])\n",
    "\n"
   ]
  },
  {
   "cell_type": "code",
   "execution_count": 30,
   "id": "f72683fb",
   "metadata": {},
   "outputs": [
    {
     "ename": "NameError",
     "evalue": "name 'proportions_df_old' is not defined",
     "output_type": "error",
     "traceback": [
      "\u001b[0;31m---------------------------------------------------------------------------\u001b[0m",
      "\u001b[0;31mNameError\u001b[0m                                 Traceback (most recent call last)",
      "Cell \u001b[0;32mIn[30], line 1\u001b[0m\n\u001b[0;32m----> 1\u001b[0m chart \u001b[39m=\u001b[39m alt\u001b[39m.\u001b[39mChart(proportions_df_old)\n\u001b[1;32m      3\u001b[0m chart\u001b[39m.\u001b[39mmark_bar()\u001b[39m.\u001b[39mencode(\n\u001b[1;32m      4\u001b[0m     alt\u001b[39m.\u001b[39mX(\n\u001b[1;32m      5\u001b[0m         \u001b[39m'\u001b[39m\u001b[39mclumpiness reverse\u001b[39m\u001b[39m'\u001b[39m,\n\u001b[0;32m   (...)\u001b[0m\n\u001b[1;32m     10\u001b[0m     alt\u001b[39m.\u001b[39mY(aggregate\u001b[39m=\u001b[39m\u001b[39m'\u001b[39m\u001b[39mcount\u001b[39m\u001b[39m'\u001b[39m)\n\u001b[1;32m     11\u001b[0m )\n",
      "\u001b[0;31mNameError\u001b[0m: name 'proportions_df_old' is not defined"
     ]
    }
   ],
   "source": [
    "chart = alt.Chart(proportions_df_old)\n",
    "\n",
    "chart.mark_bar().encode(\n",
    "    alt.X(\n",
    "        'clumpiness reverse',\n",
    "        type='quantitative',\n",
    "        bin=alt.Bin(step=0.05),\n",
    "        scale=alt.Scale(domain=(0, 1))\n",
    "    ),\n",
    "    alt.Y(aggregate='count')\n",
    ")"
   ]
  },
  {
   "cell_type": "code",
   "execution_count": null,
   "id": "d4016969",
   "metadata": {},
   "outputs": [
    {
     "data": {
      "text/html": [
       "\n",
       "<style>\n",
       "  #altair-viz-40c7143447fb4e87ac61139f7388bbf5.vega-embed {\n",
       "    width: 100%;\n",
       "    display: flex;\n",
       "  }\n",
       "\n",
       "  #altair-viz-40c7143447fb4e87ac61139f7388bbf5.vega-embed details,\n",
       "  #altair-viz-40c7143447fb4e87ac61139f7388bbf5.vega-embed details summary {\n",
       "    position: relative;\n",
       "  }\n",
       "</style>\n",
       "<div id=\"altair-viz-40c7143447fb4e87ac61139f7388bbf5\"></div>\n",
       "<script type=\"text/javascript\">\n",
       "  var VEGA_DEBUG = (typeof VEGA_DEBUG == \"undefined\") ? {} : VEGA_DEBUG;\n",
       "  (function(spec, embedOpt){\n",
       "    let outputDiv = document.currentScript.previousElementSibling;\n",
       "    if (outputDiv.id !== \"altair-viz-40c7143447fb4e87ac61139f7388bbf5\") {\n",
       "      outputDiv = document.getElementById(\"altair-viz-40c7143447fb4e87ac61139f7388bbf5\");\n",
       "    }\n",
       "    const paths = {\n",
       "      \"vega\": \"https://cdn.jsdelivr.net/npm/vega@5?noext\",\n",
       "      \"vega-lib\": \"https://cdn.jsdelivr.net/npm/vega-lib?noext\",\n",
       "      \"vega-lite\": \"https://cdn.jsdelivr.net/npm/vega-lite@5.8.0?noext\",\n",
       "      \"vega-embed\": \"https://cdn.jsdelivr.net/npm/vega-embed@6?noext\",\n",
       "    };\n",
       "\n",
       "    function maybeLoadScript(lib, version) {\n",
       "      var key = `${lib.replace(\"-\", \"\")}_version`;\n",
       "      return (VEGA_DEBUG[key] == version) ?\n",
       "        Promise.resolve(paths[lib]) :\n",
       "        new Promise(function(resolve, reject) {\n",
       "          var s = document.createElement('script');\n",
       "          document.getElementsByTagName(\"head\")[0].appendChild(s);\n",
       "          s.async = true;\n",
       "          s.onload = () => {\n",
       "            VEGA_DEBUG[key] = version;\n",
       "            return resolve(paths[lib]);\n",
       "          };\n",
       "          s.onerror = () => reject(`Error loading script: ${paths[lib]}`);\n",
       "          s.src = paths[lib];\n",
       "        });\n",
       "    }\n",
       "\n",
       "    function showError(err) {\n",
       "      outputDiv.innerHTML = `<div class=\"error\" style=\"color:red;\">${err}</div>`;\n",
       "      throw err;\n",
       "    }\n",
       "\n",
       "    function displayChart(vegaEmbed) {\n",
       "      vegaEmbed(outputDiv, spec, embedOpt)\n",
       "        .catch(err => showError(`Javascript Error: ${err.message}<br>This usually means there's a typo in your chart specification. See the javascript console for the full traceback.`));\n",
       "    }\n",
       "\n",
       "    if(typeof define === \"function\" && define.amd) {\n",
       "      requirejs.config({paths});\n",
       "      require([\"vega-embed\"], displayChart, err => showError(`Error loading script: ${err.message}`));\n",
       "    } else {\n",
       "      maybeLoadScript(\"vega\", \"5\")\n",
       "        .then(() => maybeLoadScript(\"vega-lite\", \"5.8.0\"))\n",
       "        .then(() => maybeLoadScript(\"vega-embed\", \"6\"))\n",
       "        .catch(showError)\n",
       "        .then(() => displayChart(vegaEmbed));\n",
       "    }\n",
       "  })({\"config\": {\"view\": {\"continuousWidth\": 300, \"continuousHeight\": 300}}, \"data\": {\"name\": \"data-2e26d3e1fb63ed72a54426df9c7c589f\"}, \"mark\": {\"type\": \"bar\"}, \"encoding\": {\"x\": {\"bin\": {\"step\": 0.05}, \"field\": \"clumpiness reverse\", \"scale\": {\"domain\": [0, 1]}, \"type\": \"quantitative\"}, \"y\": {\"aggregate\": \"count\"}}, \"$schema\": \"https://vega.github.io/schema/vega-lite/v5.8.0.json\", \"datasets\": {\"data-2e26d3e1fb63ed72a54426df9c7c589f\": [{\"tier 1 correct\": 0.0, \"tier 1 reverse\": 0.0, \"tier 2 correct\": 0.88525, \"tier 2 reverse\": 0.09215, \"clumpiness correct\": 0.4728, \"clumpiness reverse\": 0.0028}, {\"tier 1 correct\": 0.0, \"tier 1 reverse\": 0.0, \"tier 2 correct\": 0.49949999999999994, \"tier 2 reverse\": 0.39885, \"clumpiness correct\": 0.6778, \"clumpiness reverse\": 0.00805}, {\"tier 1 correct\": 0.0, \"tier 1 reverse\": 0.0, \"tier 2 correct\": 0.8902, \"tier 2 reverse\": 0.0284, \"clumpiness correct\": 1.0, \"clumpiness reverse\": 0.0}, {\"tier 1 correct\": 0.0, \"tier 1 reverse\": 0.0, \"tier 2 correct\": 0.71865, \"tier 2 reverse\": 0.21125, \"clumpiness correct\": 0.8663000000000001, \"clumpiness reverse\": 0.0013}, {\"tier 1 correct\": 0.0, \"tier 1 reverse\": 0.0, \"tier 2 correct\": 0.8518, \"tier 2 reverse\": 0.09104999999999999, \"clumpiness correct\": 0.935, \"clumpiness reverse\": 0.0}, {\"tier 1 correct\": 0.0, \"tier 1 reverse\": 0.0, \"tier 2 correct\": 0.7045, \"tier 2 reverse\": 0.2019, \"clumpiness correct\": 0.965, \"clumpiness reverse\": 0.0}, {\"tier 1 correct\": 0.0, \"tier 1 reverse\": 0.0, \"tier 2 correct\": 0.9152499999999999, \"tier 2 reverse\": 0.05045, \"clumpiness correct\": 0.5800000000000001, \"clumpiness reverse\": 0.01}, {\"tier 1 correct\": 0.0, \"tier 1 reverse\": 0.0, \"tier 2 correct\": 0.8342, \"tier 2 reverse\": 0.0871, \"clumpiness correct\": 0.7222999999999999, \"clumpiness reverse\": 0.0024}, {\"tier 1 correct\": 0.845, \"tier 1 reverse\": 0.0, \"tier 2 correct\": 0.8695999999999999, \"tier 2 reverse\": 0.11135, \"clumpiness correct\": 1.0, \"clumpiness reverse\": 0.0}, {\"tier 1 correct\": 0.0, \"tier 1 reverse\": 0.0, \"tier 2 correct\": 0.72105, \"tier 2 reverse\": 0.21195, \"clumpiness correct\": 0.9214, \"clumpiness reverse\": 0.0014}, {\"tier 1 correct\": 0.0, \"tier 1 reverse\": 0.0, \"tier 2 correct\": 0.5115, \"tier 2 reverse\": 0.31875, \"clumpiness correct\": 0.325, \"clumpiness reverse\": 0.0}, {\"tier 1 correct\": 0.0, \"tier 1 reverse\": 0.0, \"tier 2 correct\": 0.70125, \"tier 2 reverse\": 0.2379, \"clumpiness correct\": 0.6328, \"clumpiness reverse\": 0.0108}, {\"tier 1 correct\": 0.0, \"tier 1 reverse\": 0.0, \"tier 2 correct\": 0.50815, \"tier 2 reverse\": 0.43765, \"clumpiness correct\": 0.83565, \"clumpiness reverse\": 0.00065}, {\"tier 1 correct\": 0.0, \"tier 1 reverse\": 0.0, \"tier 2 correct\": 0.7317, \"tier 2 reverse\": 0.23404999999999998, \"clumpiness correct\": 0.2217, \"clumpiness reverse\": 0.05985}, {\"tier 1 correct\": 0.0, \"tier 1 reverse\": 0.0, \"tier 2 correct\": 0.80355, \"tier 2 reverse\": 0.186, \"clumpiness correct\": 0.23625000000000002, \"clumpiness reverse\": 0.056249999999999994}, {\"tier 1 correct\": 0.0, \"tier 1 reverse\": 0.0, \"tier 2 correct\": 0.8086, \"tier 2 reverse\": 0.1292, \"clumpiness correct\": 0.97, \"clumpiness reverse\": 0.0}, {\"tier 1 correct\": 0.0, \"tier 1 reverse\": 0.0, \"tier 2 correct\": 0.6435500000000001, \"tier 2 reverse\": 0.22444999999999998, \"clumpiness correct\": 1.0, \"clumpiness reverse\": 0.0}, {\"tier 1 correct\": 0.0, \"tier 1 reverse\": 0.0, \"tier 2 correct\": 0.6161000000000001, \"tier 2 reverse\": 0.3185, \"clumpiness correct\": 0.995, \"clumpiness reverse\": 0.0}, {\"tier 1 correct\": 0.0, \"tier 1 reverse\": 0.0, \"tier 2 correct\": 0.8754, \"tier 2 reverse\": 0.0781, \"clumpiness correct\": 0.855, \"clumpiness reverse\": 0.0}, {\"tier 1 correct\": 0.0, \"tier 1 reverse\": 0.0, \"tier 2 correct\": 0.9529, \"tier 2 reverse\": 0.03315, \"clumpiness correct\": 0.28875, \"clumpiness reverse\": 0.01375}]}}, {\"mode\": \"vega-lite\"});\n",
       "</script>"
      ],
      "text/plain": [
       "alt.Chart(...)"
      ]
     },
     "execution_count": 199,
     "metadata": {},
     "output_type": "execute_result"
    }
   ],
   "source": [
    "chart = alt.Chart(proportions_df_new)\n",
    "\n",
    "chart.mark_bar().encode(\n",
    "    alt.X(\n",
    "        'clumpiness reverse',\n",
    "        type='quantitative',\n",
    "        bin=alt.Bin(step=0.05),\n",
    "        scale=alt.Scale(domain=(0, 1))\n",
    "    ),\n",
    "    alt.Y(aggregate='count')\n",
    ")"
   ]
  }
 ],
 "metadata": {
  "kernelspec": {
   "display_name": "Python 3 (ipykernel)",
   "language": "python",
   "name": "python3"
  },
  "language_info": {
   "codemirror_mode": {
    "name": "ipython",
    "version": 3
   },
   "file_extension": ".py",
   "mimetype": "text/x-python",
   "name": "python",
   "nbconvert_exporter": "python",
   "pygments_lexer": "ipython3",
   "version": "3.8.16"
  }
 },
 "nbformat": 4,
 "nbformat_minor": 5
}
